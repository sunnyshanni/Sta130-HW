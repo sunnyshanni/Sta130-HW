{
 "cells": [
  {
   "cell_type": "markdown",
   "id": "f6725608",
   "metadata": {},
   "source": [
    "# Pre-lecture"
   ]
  },
  {
   "cell_type": "markdown",
   "id": "57912f3f",
   "metadata": {},
   "source": [
    "#1"
   ]
  },
  {
   "cell_type": "code",
   "execution_count": 4,
   "id": "2f0fa0cd",
   "metadata": {},
   "outputs": [
    {
     "data": {
      "text/plain": [
       "0.66522"
      ]
     },
     "execution_count": 4,
     "metadata": {},
     "output_type": "execute_result"
    }
   ],
   "source": [
    "import numpy as np\n",
    "all_door_options = (1,2,3)  #tuple --> means these numbers are immutable\n",
    "my_door_choice = 1  # choose door 1\n",
    "i_won = 0 \n",
    "reps = 100000 #the number of repetition the 'for'loop will execute\n",
    "for i in range(reps): \n",
    "    secret_winning_door = np.random.choice(all_door_options)# a random door will be the winning door\n",
    "    all_door_options_list = list(all_door_options)\n",
    "    # take the secret_winning_door, so we don't show it as a \"goat\" losing door\n",
    "    all_door_options_list.remove(secret_winning_door)\n",
    "    try:\n",
    "        # if my_door_choice was secret_winning_door then it's already removed\n",
    "        all_door_options_list.remove(my_door_choice)\n",
    "    except:\n",
    "        pass\n",
    "    # show a \"goat\" losing door and remove it\n",
    "    goat_door_reveal = np.random.choice(all_door_options_list)\n",
    "    all_door_options_list.remove(goat_door_reveal)\n",
    "    \n",
    "      # put the secret_winning_door back in if it wasn't our choice\n",
    "    # we previously removed it, so it would be shown as a  \"goat\" losing door\n",
    "    if secret_winning_door != my_door_choice:\n",
    "        all_door_options_list.append(secret_winning_door)\n",
    "    # if secret_winning_door was our choice then all that's left in the list is a \"goat\" losing door\n",
    "    # if secret_winning_door wasn't our choice then it's all that will be left in the list\n",
    "\n",
    "    # swap strategy\n",
    "    my_door_choice = all_door_options_list[0]\n",
    "\n",
    "    if my_door_choice == secret_winning_door:\n",
    "        i_won += 1\n",
    "\n",
    "i_won/reps"
   ]
  },
  {
   "cell_type": "markdown",
   "id": "69d39d8d",
   "metadata": {},
   "source": [
    "#2 & #3"
   ]
  },
  {
   "cell_type": "code",
   "execution_count": 16,
   "id": "8f057343",
   "metadata": {},
   "outputs": [
    {
     "name": "stdout",
     "output_type": "stream",
     "text": [
      "Winning by switching: 0.66587\n"
     ]
    }
   ],
   "source": [
    "import numpy as np\n",
    "\n",
    "# Setup variables\n",
    "doors = [1, 2, 3]  # The three doors\n",
    "my_door_choice = 1  # Always start by picking door 1\n",
    "switch_wins = 0  # Track how many times we win by switching\n",
    "reps = 100000  # Number of times to run the simulation\n",
    "\n",
    "# Loop through the simulation\n",
    "for _ in range(reps):\n",
    "    # Step 1: Randomly pick the winning door\n",
    "    winning_door = np.random.choice(doors)\n",
    "    \n",
    "    # Step 2: Monty reveals a goat door (one that isn't the winning door or your choice)\n",
    "    possible_goat_doors = [door for door in doors if door != winning_door and door != my_door_choice]\n",
    "    goat_door = np.random.choice(possible_goat_doors)\n",
    "    \n",
    "    # Step 3: Switch to the remaining door\n",
    "    switch_door = [door for door in doors if door != my_door_choice and door != goat_door][0]\n",
    "    \n",
    "    # Step 4: Check if switching wins\n",
    "    if switch_door == winning_door:\n",
    "        switch_wins += 1\n",
    "\n",
    "# Calculate the probability of winning by switching\n",
    "switch_win_rate = switch_wins / reps\n",
    "print(f\"Winning by switching: {switch_win_rate}\")\n"
   ]
  },
  {
   "cell_type": "markdown",
   "id": "205c6ee4",
   "metadata": {},
   "source": [
    "Removed try-except: Instead of using try-except, we now explicitly filter out doors in a more transparent way with list comprehensions.\n",
    "\n",
    "Simplified Door Filtering: The process of revealing a losing door and then switching doors is made more clear by using list comprehensions to filter out doors.\n",
    "\n",
    "Better Commenting: The steps are clearly described in the comments so that each part of the process is easier to follow."
   ]
  },
  {
   "cell_type": "markdown",
   "id": "0fbb314f",
   "metadata": {},
   "source": [
    "Here’s a summary of our exchanges for your homework assignment:\n",
    "\n",
    "---\n",
    "\n",
    "### **Monty Hall Problem Code Discussion**\n",
    "\n",
    "1. **Initial Simulation Code and Explanation:**\n",
    "   - You shared a Monty Hall problem simulation where the player picks a door, a losing door is revealed, and the player switches to the remaining door.\n",
    "   - I explained that `reps` in the code refers to the number of repetitions the simulation will run (100,000 times) to observe how often the switch strategy leads to a win.\n",
    "\n",
    "2. **Understanding Specific Parts of the Code:**\n",
    "   - I explained the line `all_door_options_list.remove(secret_winning_door)` ensures that the winning door (with the prize) isn't accidentally revealed as a losing door.\n",
    "   - We discussed the overall structure of the code, focusing on the key steps: picking the winning door, removing doors, revealing a losing door, and switching to a new door.\n",
    "\n",
    "3. **Simplified Code Example:**\n",
    "   - You requested a simpler way to write the Monty Hall simulation. I provided a streamlined version that was easier to understand:\n",
    "     - It involved breaking the process down step-by-step, such as selecting a winning door, removing doors, revealing a losing door, and switching doors.\n",
    "\n",
    "4. **Simpler Alternative to List Comprehension:**\n",
    "   - I provided an alternative to the list comprehension using a basic `for` loop with `if` conditions, which is easier to understand for beginners.\n",
    "   - This approach involved manually iterating through each door and checking if it’s not the winning door or the initial choice, then adding the remaining doors to a list.\n",
    "\n",
    "---\n",
    "\n",
    "This summary reflects the key points of our discussions and code breakdowns, which should be useful for submitting as part of your homework assignment.\n",
    "\n",
    "https://chatgpt.com/share/66e74fee-0d5c-800c-aa23-95e60708c7b6"
   ]
  },
  {
   "cell_type": "markdown",
   "id": "64da7616",
   "metadata": {},
   "source": [
    "#4"
   ]
  },
  {
   "cell_type": "code",
   "execution_count": null,
   "id": "30fb3e4e",
   "metadata": {},
   "outputs": [],
   "source": [
    "# Notes I made for understanding the code\n",
    "#from collections import defaultdict\n",
    "word_used = dict()#defaultdict(int)\n",
    "# empty dict to store how many times each word appears in the list\n",
    "\n",
    "next_word = dict()#defaultdict(lambda: defaultdict(int))\n",
    "# creates another empty dict to keep track of what word comes next and how often\n",
    "\n",
    "for i,word in enumerate(words[:-1]): \n",
    "# i goes through the words list one word at a time \n",
    "# except last word because [:-1] and there's no next word for last word\n",
    "# i -> index of the word list\n",
    "# enumerate -> loop words list while having index and value at the same time\n",
    "\n",
    "    if word in word_used: #check if current word is in word_used\n",
    "        word_used[word] += 1 # true-> +1 count in dict\n",
    "    else: #false\n",
    "        word_used[word] = 1 # add to dict and has count 1\n",
    "        next_word[word] = {} # initialize an empty dict next_word and add it to the dict\n",
    "        \n",
    "    if words[i+1] in next_word[word]:\n",
    "#word[i+1]->next word\n",
    "        next_word[word][words[i+1]] += 1 #True-> +1 count \n",
    "    else:\n",
    "        next_word[word][words[i+1]] = 1 #False->set the count to 1"
   ]
  },
  {
   "cell_type": "markdown",
   "id": "e25f28f1",
   "metadata": {},
   "source": [
    "Here’s a summary of our interactions that you can submit as part of your homework assignment:\n",
    "\n",
    "---\n",
    "\n",
    "**Summary of Exchanges**\n",
    "\n",
    "In our series of interactions, we discussed a variety of topics related to coding, machine learning, and specific models. Below is a breakdown of the key points covered:\n",
    "\n",
    "1. **Code Explanation**: \n",
    "   - I helped explain a Python code snippet that used dictionaries to count word occurrences and track which words follow one another. The focus was on how the `enumerate()` function works and why `i, word` are used to iterate through a word list.\n",
    "\n",
    "2. **Assignment Submission Summary**:\n",
    "   - You requested a simple and detailed template for submitting an assignment. I provided both a concise and a more detailed structure, including important sections like the title, course, methods, and results.\n",
    "\n",
    "3. **General Support on Programming**:\n",
    "   - We also discussed your beginner-level programming background. I ensured that explanations were in plain language to help you better understand the concepts and code structure.\n",
    "\n",
    "4. **Clarifying Details for a Summary**:\n",
    "   - You asked for clarification on why the index and word are used in the for loop with `enumerate()`. I explained that it allows for both the index of the current word and the word itself to be accessed during each iteration.\n",
    "\n",
    "This summary provides a comprehensive overview of our discussions, primarily focused on Python programming and assignment submission assistance.\n",
    "\n",
    "https://chatgpt.com/share/66e99c11-34ac-800c-953f-6dc68e480279"
   ]
  },
  {
   "cell_type": "markdown",
   "id": "5165a673",
   "metadata": {},
   "source": [
    "# Post-Lecture"
   ]
  },
  {
   "cell_type": "markdown",
   "id": "0b84e043",
   "metadata": {},
   "source": [
    "#5\n",
    "    #1&2"
   ]
  },
  {
   "cell_type": "code",
   "execution_count": null,
   "id": "bb01e83f",
   "metadata": {},
   "outputs": [],
   "source": [
    "# Markovian Chatbot Extension #1\n",
    "\n",
    "word_used2 = defaultdict(int) # biagram count-> how often each word pair appears in the character's dialogue\n",
    "next_word2 = defaultdict(lambda: defaultdict(int)) #trigram count-> which words follow those bigrams essentially creating a sequence of three words for each character. \n",
    "for i,word in enumerate(words[:-2]):\n",
    "    word_used2[word+' '+words[i+1]] += 1\n",
    "    next_word2[word+' '+words[i+1]][words[i+2]] += 1 "
   ]
  },
  {
   "cell_type": "code",
   "execution_count": null,
   "id": "431bc46c",
   "metadata": {},
   "outputs": [],
   "source": [
    "# Markovian Chatbot Extension #2\n",
    "\n",
    "from collections import Counter, defaultdict \n",
    "#imports two specialized container types form the collection module\n",
    "# defaultdict -> auto-initializes the required entries, which would make it more efficient\n",
    "# counter-> count how many times each element appears\n",
    "# `avatar` is a dataset, and `character` is one of it's columns\n",
    "characters = Counter(\"\\n\"+ avatar.character.str.upper().str.replace(' ','.')+\":\")\n",
    "# this code changes the type of the `character` column to `str`; then,\n",
    "# makes the text uppercase, and replaces spaces with '.'\n",
    "\n",
    "nested_dict = lambda: defaultdict(nested_dict)\n",
    "word_used2C = nested_dict()\n",
    "#nested_dict-> creates two data structures:word_used2C and next_word2C \n",
    "next_word2C = nested_dict()\n",
    "\n",
    "for i,word in enumerate(words[:-2]):\n",
    "    if word in characters:\n",
    "        character = word\n",
    "        \n",
    "    if character not in word_used2C:\n",
    "        word_used2C[character] = dict()\n",
    "    if word+' '+words[i+1] not in word_used2C[character]:\n",
    "        word_used2C[character][word+' '+words[i+1]] = 0 #initialize the dict \n",
    "    word_used2C[character][word+' '+words[i+1]] += 1 #add count one\n",
    "    \n",
    "    #not in word_used2C[character] initialize the dict with 0 and then add one \n",
    "    \n",
    "    if character not in next_word2C:next_word2C[character] = dict()\n",
    "    if word+' '+words[i+1] not in next_word2C[character]:\n",
    "        next_word2C[character][word+' '+words[i+1]] = dict()\n",
    "    if words[i+2] not in next_word2C[character][word+' '+words[i+1]]:\n",
    "        next_word2C[character][word+' '+words[i+1]][words[i+2]] = 0\n",
    "    next_word2C[character][word+' '+words[i+1]][words[i+2]] += 1"
   ]
  },
  {
   "cell_type": "markdown",
   "id": "b002d267",
   "metadata": {},
   "source": [
    "Chatgpt was able to figure out the extension and explain it to me with examples.\n",
    "    \n",
    "Here is a summary of our exchanges, which you can use as a record for your homework assignment:\n",
    "\n",
    "### 1. **Initial Code Understanding**:\n",
    "   - You shared an initial Python code snippet that builds word transition dictionaries (`word_used` and `next_word`) based on a list of words. The code was designed to count word occurrences and build a dictionary that tracks the next possible word in a sequence.\n",
    "\n",
    "### 2. **Markovian Chatbot Extension**:\n",
    "   - You provided an extended version of the code, incorporating the `Counter` and `defaultdict` from the `collections` module. This extended version tracks word transitions for different characters in a dataset (`avatar`) by associating each word with the character speaking it.\n",
    "   - The extension added complexity by counting bigrams (pairs of consecutive words) and trigrams (the word that follows the bigram) for each character.\n",
    "\n",
    "### 3. **Explanation of the Extension**:\n",
    "   - I explained how the extension works by identifying characters in the dataset, creating nested dictionaries to track word pairs (bigrams) and their following words (trigrams), and building a **character-specific language model** using a Markov chain approach.\n",
    "   - I emphasized that this allows both text generation and analysis of character-specific speech patterns.\n",
    "\n",
    "### 4. **Code Issues and Improvements**:\n",
    "   - I pointed out an indentation error in the code and explained how the repeated checks for dictionary keys could be simplified using `defaultdict`. I then provided a more efficient version of the code, eliminating unnecessary checks by taking advantage of `defaultdict`'s auto-initialization feature.\n",
    "\n",
    "### 5. **Explanation of `from collections import Counter, defaultdict`**:\n",
    "   - I explained that `Counter` is used to count occurrences of elements in a dataset, while `defaultdict` automatically initializes a dictionary with a default value when accessing missing keys, avoiding the need to check for key existence.\n",
    "\n",
    "### 6. **How `nested_dict()` Works**:\n",
    "   - You asked how the `nested_dict()` function works, and I explained that it creates a multi-level `defaultdict` where each level is initialized as another `defaultdict`. This allows you to create a deeply nested dictionary without having to manually initialize each level. I also provided a simplified example to illustrate how `nested_dict()` automatically handles multi-level access.\n",
    "\n",
    "### 7. **Summary of the Extension**:\n",
    "   - I summarized that the extension builds a Markov chain-based model to track word transitions for each character individually. It can predict the next word for each character based on past usage, making it useful for generating character-specific dialogue or analyzing speech patterns.\n",
    "\n",
    "This summary should capture the key points of our discussions for your homework submission. Let me know if you'd like any adjustments or additions!\n",
    "\n",
    "https://chatgpt.com/share/66eb3d3a-5874-800c-add8-aa53edfd1ae1"
   ]
  },
  {
   "cell_type": "markdown",
   "id": "512e5cce",
   "metadata": {},
   "source": [
    "    #3\n",
    "    \n",
    "   Yes, Chatbot was able to understand and evaluate the complex extension without further request and hint from me. \n",
    "\n",
    "1. **Initial Code Understanding**:\n",
    "   - You shared a Python code snippet that builds a word transition dictionary (`word_used` and `next_word`) using a list of words. The code was designed to count word occurrences and build a dictionary to track the next possible word in a sequence.\n",
    "\n",
    "2. **Markovian Chatbot Extension**:\n",
    "   - You then provided an extended version of the code, adding complexity by incorporating the `Counter` and `defaultdict` to track word transitions for each character in a dataset (referred to as `avatar`).\n",
    "   - The extension tracks word sequences (bigrams and trigrams) and associates them with specific characters in the text, allowing for character-specific language modeling.\n",
    "\n",
    "3. **Explanation of the Extension**:\n",
    "   - I explained how the extension works by identifying characters, creating nested dictionaries to track word pairs (bigrams) and the words that follow them (trigrams), and building a character-specific language model using a Markov chain approach.\n",
    "   - I highlighted that this enables both text generation and analysis of character-specific speech patterns.\n",
    "\n",
    "4. **Code Issues and Improvement Suggestions**:\n",
    "   - I pointed out an indentation error and explained how the checks for dictionary keys could be simplified using `defaultdict`.\n",
    "   - I provided a more efficient version of your code, explaining how to streamline the initialization and incrementing processes for both the bigram and trigram counts.\n",
    "\n",
    "5. **Clarification on What the Extension Does**:\n",
    "   - I provided a step-by-step explanation of how the extension uses a Markov chain model to track and predict word transitions for each character based on their speech patterns.\n",
    "   - I outlined potential use cases for generating character-specific dialogue or analyzing the way characters use language in the dataset.\n",
    "\n",
    "https://chatgpt.com/share/66e9ea06-04ac-800c-8dc4-e37bbcfa1764\n"
   ]
  },
  {
   "cell_type": "markdown",
   "id": "9aa2b9d0",
   "metadata": {},
   "source": [
    "#6\n",
    "    #1\n",
    "    The ChatBot was able to respond quickly to all my questions with simple and directly-answered explanations. By breaking down each concept in a beginner-friendly way,such as explaining how each small function worked in a complex function and incorporate explanation with understable examples. It was able to address my needs effectively. \n",
    "    \n",
    "    \n",
    "    #2\n",
    "   I think sometimes the chatbot misunderstands my questions, especially when they are based on the context I've previously provided. Instead of recognizing the context, the chatbot sometimes treats my question as an separated question. Therefore, I have to remind the chatbot of the context first and then ask my question to make sure it relates to what I previously shared. \n",
    "\n",
    "    #3\n",
    "  ChatBots are useful for quick feedbacks and explaining simple coding concepts in complex combination in a beginner-friendly way(as long as I asked for it). They help me learn at my own pace and clarify syntax or functions efficiently. However, they sometimes forget the context from earlier conversations, which can be frustrating, and they may struggle with more complex problems or larger codebases. \n",
    "    "
   ]
  },
  {
   "cell_type": "markdown",
   "id": "35667a31",
   "metadata": {},
   "source": [
    "#7\n",
    " ai can help but still need to incorporate the info from ai with the content in lectures and also need some human guidance such as TAs to answer my questions maybe from a beginner's perspective because ai sometimes would still use some academic words that may not be easy to understand.\n",
    "however, it did provide me a basic understanding with the codes and how to apply these codes into statistics (examples)"
   ]
  },
  {
   "cell_type": "markdown",
   "id": "f8c91e9c",
   "metadata": {},
   "source": [
    "#8\n",
    "Here is a summary of our interactions for your homework assignment:\n",
    "\n",
    "1. **Career Path and Skills**: You inquired about the relevance of skills like learning and adaptability, communication, coding, and data analysis for career opportunities. We discussed how these skills are essential in today's data-driven world, particularly for fields such as health informatics, information science, and statistics.\n",
    "\n",
    "2. **Becoming a Statistician or Data Scientist**: You asked whether it's possible to become a statistician or data scientist without coding or data analysis. We concluded that coding and data analysis are crucial skills for both roles. While some theoretical work might not require coding, being proficient in these areas is key to success in modern statistical and data science careers.\n",
    "\n",
    "3. **Valuable Skills for Statisticians**: You asked about the most valuable skills for becoming a statistician. We discussed the importance of mathematical and statistical knowledge, coding, data analysis, attention to detail, communication, problem-solving, critical thinking, and domain knowledge.\n",
    "\n",
    "4. **Career Focus on Statistics**: You mentioned that you are pursuing a future career in statistics. This context guided our discussion toward skills and strategies specific to the field of statistics.\n",
    "\n",
    "\n",
    "https://chatgpt.com/share/66eb43ab-2f60-800c-9bc4-c3b374c2c8a4"
   ]
  },
  {
   "cell_type": "markdown",
   "id": "88feea22",
   "metadata": {},
   "source": [
    "#4\n",
    "\n",
    "After having conversation with Chatbot,current thoughts regarding my potential future career are that I don’t have a strong programming background yet, it’s something I’ll need to work on, especially if I want to pursue a career in statistics or data science. Coding will help me handle large datasets and automate my work, and learning data analysis will be critical for extracting insights from the data I work with. I plan to start with the basics and build up my skills gradually by working on small projects. I also recognize that communication will be key in presenting my findings clearly, so improving this will be another focus.\n",
    "\n",
    "#5\n",
    "    \n",
    "As a beginner, the ChatBot provided a helpful overview of the skills I need to build. To get more detailed knowledge, I could explore specific tutorials on programming or data analysis or ask for personalized advice from someone working in the field. Next steps could include enrolling in beginner coding courses and seeking out real-world projects to apply my skills."
   ]
  },
  {
   "cell_type": "markdown",
   "id": "4350d1b9",
   "metadata": {},
   "source": [
    "#9 \n",
    "mostly"
   ]
  }
 ],
 "metadata": {
  "kernelspec": {
   "display_name": "Python 3 (ipykernel)",
   "language": "python",
   "name": "python3"
  },
  "language_info": {
   "codemirror_mode": {
    "name": "ipython",
    "version": 3
   },
   "file_extension": ".py",
   "mimetype": "text/x-python",
   "name": "python",
   "nbconvert_exporter": "python",
   "pygments_lexer": "ipython3",
   "version": "3.11.6"
  }
 },
 "nbformat": 4,
 "nbformat_minor": 5
}
